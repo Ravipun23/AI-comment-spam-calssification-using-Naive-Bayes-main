{
 "cells": [
  {
   "cell_type": "code",
   "execution_count": 212,
   "metadata": {
    "execution": {
     "iopub.execute_input": "2020-10-18T13:05:25.333169Z",
     "iopub.status.busy": "2020-10-18T13:05:25.332328Z",
     "iopub.status.idle": "2020-10-18T13:05:25.336184Z",
     "shell.execute_reply": "2020-10-18T13:05:25.335480Z"
    },
    "id": "znyTEURd2V36",
    "papermill": {
     "duration": 0.047839,
     "end_time": "2020-10-18T13:05:25.336326",
     "exception": false,
     "start_time": "2020-10-18T13:05:25.288487",
     "status": "completed"
    },
    "tags": []
   },
   "outputs": [],
   "source": [
    "data_collection=[\"Dataset1.csv\",\"Dataset2.csv\",\"Dataset3.csv\",\"Dataset4.csv\"]"
   ]
  },
  {
   "cell_type": "code",
   "execution_count": 213,
   "metadata": {
    "execution": {
     "iopub.execute_input": "2020-10-18T13:05:25.425592Z",
     "iopub.status.busy": "2020-10-18T13:05:25.424502Z",
     "iopub.status.idle": "2020-10-18T13:05:25.470335Z",
     "shell.execute_reply": "2020-10-18T13:05:25.470891Z"
    },
    "id": "YOqPcnHV1Mjz",
    "papermill": {
     "duration": 0.096183,
     "end_time": "2020-10-18T13:05:25.471108",
     "exception": false,
     "start_time": "2020-10-18T13:05:25.374925",
     "status": "completed"
    },
    "tags": []
   },
   "outputs": [],
   "source": [
    "newList=[]\n",
    "import pandas as pd\n",
    "for data_ in data_collection:\n",
    "    frame = pd.read_csv(data_,index_col=None, header=0)\n",
    "    newList.append(frame)\n",
    "\n",
    "# concatenating all dataset\n",
    "df = pd.concat(newList, ignore_index=True)"
   ]
  },
  {
   "cell_type": "code",
   "execution_count": 214,
   "metadata": {
    "execution": {
     "iopub.execute_input": "2020-10-18T13:05:25.567325Z",
     "iopub.status.busy": "2020-10-18T13:05:25.566548Z",
     "iopub.status.idle": "2020-10-18T13:05:25.582505Z",
     "shell.execute_reply": "2020-10-18T13:05:25.581765Z"
    },
    "id": "l6DLqao24mhs",
    "outputId": "08341696-11b7-4faa-b781-27daa403d0c4",
    "papermill": {
     "duration": 0.072761,
     "end_time": "2020-10-18T13:05:25.582635",
     "exception": false,
     "start_time": "2020-10-18T13:05:25.509874",
     "status": "completed"
    },
    "tags": []
   },
   "outputs": [
    {
     "data": {
      "text/html": [
       "<div>\n",
       "<style scoped>\n",
       "    .dataframe tbody tr th:only-of-type {\n",
       "        vertical-align: middle;\n",
       "    }\n",
       "\n",
       "    .dataframe tbody tr th {\n",
       "        vertical-align: top;\n",
       "    }\n",
       "\n",
       "    .dataframe thead th {\n",
       "        text-align: right;\n",
       "    }\n",
       "</style>\n",
       "<table border=\"1\" class=\"dataframe\">\n",
       "  <thead>\n",
       "    <tr style=\"text-align: right;\">\n",
       "      <th></th>\n",
       "      <th>COMMENT_ID</th>\n",
       "      <th>AUTHOR</th>\n",
       "      <th>DATE</th>\n",
       "      <th>CONTENT</th>\n",
       "      <th>CLASS</th>\n",
       "    </tr>\n",
       "  </thead>\n",
       "  <tbody>\n",
       "    <tr>\n",
       "      <th>0</th>\n",
       "      <td>LZQPQhLyRh80UYxNuaDWhIGQYNQ96IuCg-AYWqNPjpU</td>\n",
       "      <td>Julius NM</td>\n",
       "      <td>2013-11-07T06:20:48</td>\n",
       "      <td>Huh, anyway check out this you[tube] channel: ...</td>\n",
       "      <td>1</td>\n",
       "    </tr>\n",
       "    <tr>\n",
       "      <th>1</th>\n",
       "      <td>LZQPQhLyRh_C2cTtd9MvFRJedxydaVW-2sNg5Diuo4A</td>\n",
       "      <td>adam riyati</td>\n",
       "      <td>2013-11-07T12:37:15</td>\n",
       "      <td>Hey guys check out my new channel and our firs...</td>\n",
       "      <td>1</td>\n",
       "    </tr>\n",
       "    <tr>\n",
       "      <th>2</th>\n",
       "      <td>LZQPQhLyRh9MSZYnf8djyk0gEF9BHDPYrrK-qCczIY8</td>\n",
       "      <td>Evgeny Murashkin</td>\n",
       "      <td>2013-11-08T17:34:21</td>\n",
       "      <td>just for test I have to say murdev.com</td>\n",
       "      <td>1</td>\n",
       "    </tr>\n",
       "    <tr>\n",
       "      <th>3</th>\n",
       "      <td>z13jhp0bxqncu512g22wvzkasxmvvzjaz04</td>\n",
       "      <td>ElNino Melendez</td>\n",
       "      <td>2013-11-09T08:28:43</td>\n",
       "      <td>me shaking my sexy ass on my channel enjoy ^_^ ﻿</td>\n",
       "      <td>1</td>\n",
       "    </tr>\n",
       "    <tr>\n",
       "      <th>4</th>\n",
       "      <td>z13fwbwp1oujthgqj04chlngpvzmtt3r3dw</td>\n",
       "      <td>GsMega</td>\n",
       "      <td>2013-11-10T16:05:38</td>\n",
       "      <td>watch?v=vtaRGgvGtWQ   Check this out .﻿</td>\n",
       "      <td>1</td>\n",
       "    </tr>\n",
       "    <tr>\n",
       "      <th>...</th>\n",
       "      <td>...</td>\n",
       "      <td>...</td>\n",
       "      <td>...</td>\n",
       "      <td>...</td>\n",
       "      <td>...</td>\n",
       "    </tr>\n",
       "    <tr>\n",
       "      <th>1581</th>\n",
       "      <td>LneaDw26bFu3RCmyrWyP9S6wh1h9dBv3X95g1HzKAb4</td>\n",
       "      <td>Dany PK</td>\n",
       "      <td>NaN</td>\n",
       "      <td>SUBSCRIBE TO MY CHANNEL X PLEASE!. SPARE</td>\n",
       "      <td>1</td>\n",
       "    </tr>\n",
       "    <tr>\n",
       "      <th>1582</th>\n",
       "      <td>LneaDw26bFsD65dtIvAEObWYIYnFTqQDKBek_Ypz3J8</td>\n",
       "      <td>SmexyFriedChicken</td>\n",
       "      <td>NaN</td>\n",
       "      <td>Check out my videos guy! :) Hope you guys had ...</td>\n",
       "      <td>1</td>\n",
       "    </tr>\n",
       "    <tr>\n",
       "      <th>1583</th>\n",
       "      <td>LneaDw26bFuvs-8oWkLpAFa6g3QHpWD8k7sbbMP3Bg8</td>\n",
       "      <td>The Guy That's Done Everything</td>\n",
       "      <td>NaN</td>\n",
       "      <td>3 yrs ago I had a health scare but thankfully ...</td>\n",
       "      <td>1</td>\n",
       "    </tr>\n",
       "    <tr>\n",
       "      <th>1584</th>\n",
       "      <td>z12hfp2wmyuqztkw504cgblyxtbsxjuzeow0k</td>\n",
       "      <td>Jesse Pinkman</td>\n",
       "      <td>2015-05-06T11:42:44.601000</td>\n",
       "      <td>Rihanna looks so beautiful with red hair ;)﻿</td>\n",
       "      <td>0</td>\n",
       "    </tr>\n",
       "    <tr>\n",
       "      <th>1585</th>\n",
       "      <td>z13tsbc5vvn0hdozz04chjt51lq1cvris0k</td>\n",
       "      <td>Gaming Gaming</td>\n",
       "      <td>2015-05-06T10:56:35.972000</td>\n",
       "      <td>857.482.940 views AWESOME !!!!!!!!!!!!!!!!!!!!...</td>\n",
       "      <td>0</td>\n",
       "    </tr>\n",
       "  </tbody>\n",
       "</table>\n",
       "<p>1586 rows × 5 columns</p>\n",
       "</div>"
      ],
      "text/plain": [
       "                                       COMMENT_ID  \\\n",
       "0     LZQPQhLyRh80UYxNuaDWhIGQYNQ96IuCg-AYWqNPjpU   \n",
       "1     LZQPQhLyRh_C2cTtd9MvFRJedxydaVW-2sNg5Diuo4A   \n",
       "2     LZQPQhLyRh9MSZYnf8djyk0gEF9BHDPYrrK-qCczIY8   \n",
       "3             z13jhp0bxqncu512g22wvzkasxmvvzjaz04   \n",
       "4             z13fwbwp1oujthgqj04chlngpvzmtt3r3dw   \n",
       "...                                           ...   \n",
       "1581  LneaDw26bFu3RCmyrWyP9S6wh1h9dBv3X95g1HzKAb4   \n",
       "1582  LneaDw26bFsD65dtIvAEObWYIYnFTqQDKBek_Ypz3J8   \n",
       "1583  LneaDw26bFuvs-8oWkLpAFa6g3QHpWD8k7sbbMP3Bg8   \n",
       "1584        z12hfp2wmyuqztkw504cgblyxtbsxjuzeow0k   \n",
       "1585          z13tsbc5vvn0hdozz04chjt51lq1cvris0k   \n",
       "\n",
       "                              AUTHOR                        DATE  \\\n",
       "0                          Julius NM         2013-11-07T06:20:48   \n",
       "1                        adam riyati         2013-11-07T12:37:15   \n",
       "2                   Evgeny Murashkin         2013-11-08T17:34:21   \n",
       "3                    ElNino Melendez         2013-11-09T08:28:43   \n",
       "4                             GsMega         2013-11-10T16:05:38   \n",
       "...                              ...                         ...   \n",
       "1581                         Dany PK                         NaN   \n",
       "1582               SmexyFriedChicken                         NaN   \n",
       "1583  The Guy That's Done Everything                         NaN   \n",
       "1584                   Jesse Pinkman  2015-05-06T11:42:44.601000   \n",
       "1585                   Gaming Gaming  2015-05-06T10:56:35.972000   \n",
       "\n",
       "                                                CONTENT  CLASS  \n",
       "0     Huh, anyway check out this you[tube] channel: ...      1  \n",
       "1     Hey guys check out my new channel and our firs...      1  \n",
       "2                just for test I have to say murdev.com      1  \n",
       "3      me shaking my sexy ass on my channel enjoy ^_^ ﻿      1  \n",
       "4               watch?v=vtaRGgvGtWQ   Check this out .﻿      1  \n",
       "...                                                 ...    ...  \n",
       "1581           SUBSCRIBE TO MY CHANNEL X PLEASE!. SPARE      1  \n",
       "1582  Check out my videos guy! :) Hope you guys had ...      1  \n",
       "1583  3 yrs ago I had a health scare but thankfully ...      1  \n",
       "1584       Rihanna looks so beautiful with red hair ;)﻿      0  \n",
       "1585  857.482.940 views AWESOME !!!!!!!!!!!!!!!!!!!!...      0  \n",
       "\n",
       "[1586 rows x 5 columns]"
      ]
     },
     "execution_count": 214,
     "metadata": {},
     "output_type": "execute_result"
    }
   ],
   "source": [
    "df"
   ]
  },
  {
   "cell_type": "markdown",
   "metadata": {
    "id": "l81yebnmJtab",
    "papermill": {
     "duration": 0.04028,
     "end_time": "2020-10-18T13:05:25.663362",
     "exception": false,
     "start_time": "2020-10-18T13:05:25.623082",
     "status": "completed"
    },
    "tags": []
   },
   "source": [
    "# Data Cleaning\n",
    "To improve efficiency of our model, let's replace all link tags with a common word so that our algorithm treats all links as a single feature in our classification."
   ]
  },
  {
   "cell_type": "code",
   "execution_count": 215,
   "metadata": {
    "execution": {
     "iopub.execute_input": "2020-10-18T13:05:25.831852Z",
     "iopub.status.busy": "2020-10-18T13:05:25.831018Z",
     "iopub.status.idle": "2020-10-18T13:05:25.834480Z",
     "shell.execute_reply": "2020-10-18T13:05:25.833827Z"
    },
    "id": "KX_cBsZYAei5",
    "papermill": {
     "duration": 0.052623,
     "end_time": "2020-10-18T13:05:25.834619",
     "exception": false,
     "start_time": "2020-10-18T13:05:25.781996",
     "status": "completed"
    },
    "tags": []
   },
   "outputs": [],
   "source": [
    "#dropping unnecessary attributes\n",
    "\n",
    "df.drop(columns=[\"COMMENT_ID\",\"AUTHOR\",\"DATE\"],inplace=True)"
   ]
  },
  {
   "cell_type": "code",
   "execution_count": 216,
   "metadata": {
    "execution": {
     "iopub.execute_input": "2020-10-18T13:05:25.922173Z",
     "iopub.status.busy": "2020-10-18T13:05:25.921262Z",
     "iopub.status.idle": "2020-10-18T13:05:25.926080Z",
     "shell.execute_reply": "2020-10-18T13:05:25.926641Z"
    },
    "id": "7t0Auqz1BA4w",
    "outputId": "d4e52383-68c2-4a9f-89ce-91591ae99d9c",
    "papermill": {
     "duration": 0.052188,
     "end_time": "2020-10-18T13:05:25.926813",
     "exception": false,
     "start_time": "2020-10-18T13:05:25.874625",
     "status": "completed"
    },
    "tags": []
   },
   "outputs": [
    {
     "data": {
      "text/plain": [
       "'<a href=\"http://www.youtube.com/watch?v=KQ6zr6kCPj8&amp;t=2m19s\">2:19</a> best part\\ufeff'"
      ]
     },
     "execution_count": 216,
     "metadata": {},
     "output_type": "execute_result"
    }
   ],
   "source": [
    "# viewing the conntent of 700th data\n",
    "\n",
    "df[\"CONTENT\"][700]"
   ]
  },
  {
   "cell_type": "code",
   "execution_count": 217,
   "metadata": {
    "execution": {
     "iopub.execute_input": "2020-10-18T13:05:26.022111Z",
     "iopub.status.busy": "2020-10-18T13:05:26.020995Z",
     "iopub.status.idle": "2020-10-18T13:05:26.024441Z",
     "shell.execute_reply": "2020-10-18T13:05:26.023850Z"
    },
    "id": "wc4utzYVBE2a",
    "papermill": {
     "duration": 0.057073,
     "end_time": "2020-10-18T13:05:26.024571",
     "exception": false,
     "start_time": "2020-10-18T13:05:25.967498",
     "status": "completed"
    },
    "tags": []
   },
   "outputs": [],
   "source": [
    "import html\n",
    "df[\"CONTENT\"]=df[\"CONTENT\"].apply(html.unescape)\n",
    "df[\"CONTENT\"]=df[\"CONTENT\"].str.replace(\"\\ufeff\",\"\")"
   ]
  },
  {
   "cell_type": "code",
   "execution_count": 218,
   "metadata": {
    "execution": {
     "iopub.execute_input": "2020-10-18T13:05:26.112996Z",
     "iopub.status.busy": "2020-10-18T13:05:26.111930Z",
     "iopub.status.idle": "2020-10-18T13:05:26.115375Z",
     "shell.execute_reply": "2020-10-18T13:05:26.115952Z"
    },
    "id": "MEgEgdPnBNRV",
    "outputId": "2b124614-8a4c-4efb-a698-6ec8670db2e4",
    "papermill": {
     "duration": 0.050906,
     "end_time": "2020-10-18T13:05:26.116107",
     "exception": false,
     "start_time": "2020-10-18T13:05:26.065201",
     "status": "completed"
    },
    "tags": []
   },
   "outputs": [
    {
     "data": {
      "text/plain": [
       "'<a href=\"http://www.youtube.com/watch?v=KQ6zr6kCPj8&t=2m19s\">2:19</a> best part'"
      ]
     },
     "execution_count": 218,
     "metadata": {},
     "output_type": "execute_result"
    }
   ],
   "source": [
    "df[\"CONTENT\"][700]"
   ]
  },
  {
   "cell_type": "code",
   "execution_count": 219,
   "metadata": {
    "execution": {
     "iopub.execute_input": "2020-10-18T13:05:26.290212Z",
     "iopub.status.busy": "2020-10-18T13:05:26.289265Z",
     "iopub.status.idle": "2020-10-18T13:05:26.292573Z",
     "shell.execute_reply": "2020-10-18T13:05:26.291853Z"
    },
    "id": "nyS_0z_aBQOn",
    "papermill": {
     "duration": 0.05354,
     "end_time": "2020-10-18T13:05:26.292699",
     "exception": false,
     "start_time": "2020-10-18T13:05:26.239159",
     "status": "completed"
    },
    "tags": []
   },
   "outputs": [],
   "source": [
    "# replace all a-tags with a word \"htmllink\"\n",
    "\n",
    "df[\"CONTENT\"]=df[\"CONTENT\"].str.replace(\"(<a.+>)\",\"htmllink\",regex=True)"
   ]
  },
  {
   "cell_type": "markdown",
   "metadata": {
    "id": "mGsoe3p6JUG1",
    "papermill": {
     "duration": 0.040608,
     "end_time": "2020-10-18T13:05:26.374688",
     "exception": false,
     "start_time": "2020-10-18T13:05:26.334080",
     "status": "completed"
    },
    "tags": []
   },
   "source": [
    "Now lets inspect all other tags and remove them as they are not relevant to our analysis. "
   ]
  },
  {
   "cell_type": "code",
   "execution_count": 220,
   "metadata": {
    "execution": {
     "iopub.execute_input": "2020-10-18T13:05:26.468213Z",
     "iopub.status.busy": "2020-10-18T13:05:26.467355Z",
     "iopub.status.idle": "2020-10-18T13:05:26.471846Z",
     "shell.execute_reply": "2020-10-18T13:05:26.471104Z"
    },
    "id": "KS69suslBSyp",
    "outputId": "3ceca205-f37c-4be0-c428-06b3feb615f2",
    "papermill": {
     "duration": 0.05638,
     "end_time": "2020-10-18T13:05:26.471994",
     "exception": false,
     "start_time": "2020-10-18T13:05:26.415614",
     "status": "completed"
    },
    "tags": []
   },
   "outputs": [
    {
     "data": {
      "text/plain": [
       "381                      <script>document.write('htmllink\n",
       "702     Hey guys, I'm a human.<br /><br /><br />But I ...\n",
       "708                                          Awsome<br />\n",
       "728                             Super awesome video<br />\n",
       "730     This Will Always Be My Favorite Song<br />But ...\n",
       "                              ...                        \n",
       "1406                    Hello. İ am from Azerbaijan<br />\n",
       "1409                EMINEM<3 <br />the best rapper ever<3\n",
       "1499    If you are a person that loves real music you ...\n",
       "1546               Love your songs<br />Supper cool<br />\n",
       "1566     Really good song .<br />you know love song song.\n",
       "Name: CONTENT, Length: 65, dtype: object"
      ]
     },
     "execution_count": 220,
     "metadata": {},
     "output_type": "execute_result"
    }
   ],
   "source": [
    "df[df[\"CONTENT\"].str.contains(\"<.+>\")][\"CONTENT\"]"
   ]
  },
  {
   "cell_type": "code",
   "execution_count": 221,
   "metadata": {
    "execution": {
     "iopub.execute_input": "2020-10-18T13:05:26.565471Z",
     "iopub.status.busy": "2020-10-18T13:05:26.564279Z",
     "iopub.status.idle": "2020-10-18T13:05:26.568013Z",
     "shell.execute_reply": "2020-10-18T13:05:26.567239Z"
    },
    "id": "4rA8mbIfBU1M",
    "papermill": {
     "duration": 0.053442,
     "end_time": "2020-10-18T13:05:26.568143",
     "exception": false,
     "start_time": "2020-10-18T13:05:26.514701",
     "status": "completed"
    },
    "tags": []
   },
   "outputs": [],
   "source": [
    "df[\"CONTENT\"]=df[\"CONTENT\"].str.replace(\"<.+>\",\"\",regex=True)"
   ]
  },
  {
   "cell_type": "code",
   "execution_count": 222,
   "metadata": {
    "execution": {
     "iopub.execute_input": "2020-10-18T13:05:26.661482Z",
     "iopub.status.busy": "2020-10-18T13:05:26.660544Z",
     "iopub.status.idle": "2020-10-18T13:05:26.663504Z",
     "shell.execute_reply": "2020-10-18T13:05:26.662886Z"
    },
    "id": "itgAPgUgBYBE",
    "papermill": {
     "duration": 0.053361,
     "end_time": "2020-10-18T13:05:26.663630",
     "exception": false,
     "start_time": "2020-10-18T13:05:26.610269",
     "status": "completed"
    },
    "tags": []
   },
   "outputs": [],
   "source": [
    "df[\"CONTENT\"]=df[\"CONTENT\"].str.replace(\"\\'\",\"\")"
   ]
  },
  {
   "cell_type": "code",
   "execution_count": 223,
   "metadata": {
    "execution": {
     "iopub.execute_input": "2020-10-18T13:05:26.756323Z",
     "iopub.status.busy": "2020-10-18T13:05:26.755508Z",
     "iopub.status.idle": "2020-10-18T13:05:26.758736Z",
     "shell.execute_reply": "2020-10-18T13:05:26.758117Z"
    },
    "id": "nLuxtgiCBaNU",
    "papermill": {
     "duration": 0.053434,
     "end_time": "2020-10-18T13:05:26.758866",
     "exception": false,
     "start_time": "2020-10-18T13:05:26.705432",
     "status": "completed"
    },
    "tags": []
   },
   "outputs": [],
   "source": [
    "df[\"CONTENT\"]=df[\"CONTENT\"].str.lower()"
   ]
  },
  {
   "cell_type": "code",
   "execution_count": 224,
   "metadata": {
    "execution": {
     "iopub.execute_input": "2020-10-18T13:05:26.866496Z",
     "iopub.status.busy": "2020-10-18T13:05:26.865611Z",
     "iopub.status.idle": "2020-10-18T13:05:26.870310Z",
     "shell.execute_reply": "2020-10-18T13:05:26.869519Z"
    },
    "id": "0pfjhAmPBbq0",
    "outputId": "663dcb61-4c88-4333-9685-f69b7cdd6bb5",
    "papermill": {
     "duration": 0.068787,
     "end_time": "2020-10-18T13:05:26.870436",
     "exception": false,
     "start_time": "2020-10-18T13:05:26.801649",
     "status": "completed"
    },
    "tags": []
   },
   "outputs": [
    {
     "data": {
      "text/html": [
       "<div>\n",
       "<style scoped>\n",
       "    .dataframe tbody tr th:only-of-type {\n",
       "        vertical-align: middle;\n",
       "    }\n",
       "\n",
       "    .dataframe tbody tr th {\n",
       "        vertical-align: top;\n",
       "    }\n",
       "\n",
       "    .dataframe thead th {\n",
       "        text-align: right;\n",
       "    }\n",
       "</style>\n",
       "<table border=\"1\" class=\"dataframe\">\n",
       "  <thead>\n",
       "    <tr style=\"text-align: right;\">\n",
       "      <th></th>\n",
       "      <th>CONTENT</th>\n",
       "      <th>CLASS</th>\n",
       "    </tr>\n",
       "  </thead>\n",
       "  <tbody>\n",
       "    <tr>\n",
       "      <th>2</th>\n",
       "      <td>just for test i have to say murdev.com</td>\n",
       "      <td>1</td>\n",
       "    </tr>\n",
       "    <tr>\n",
       "      <th>4</th>\n",
       "      <td>watch?v=vtarggvgtwq   check this out .</td>\n",
       "      <td>1</td>\n",
       "    </tr>\n",
       "    <tr>\n",
       "      <th>12</th>\n",
       "      <td>https://twitter.com/gbphotographygb</td>\n",
       "      <td>1</td>\n",
       "    </tr>\n",
       "    <tr>\n",
       "      <th>14</th>\n",
       "      <td>please like :d https://premium.easypromosapp.c...</td>\n",
       "      <td>1</td>\n",
       "    </tr>\n",
       "    <tr>\n",
       "      <th>17</th>\n",
       "      <td>http://www.ebay.com/itm/171183229277?sspagenam...</td>\n",
       "      <td>1</td>\n",
       "    </tr>\n",
       "    <tr>\n",
       "      <th>...</th>\n",
       "      <td>...</td>\n",
       "      <td>...</td>\n",
       "    </tr>\n",
       "    <tr>\n",
       "      <th>1448</th>\n",
       "      <td>everyone come and check out the new gta 5 game...</td>\n",
       "      <td>1</td>\n",
       "    </tr>\n",
       "    <tr>\n",
       "      <th>1476</th>\n",
       "      <td>check out these lyrics /watch?v=yuttx04oyqq</td>\n",
       "      <td>1</td>\n",
       "    </tr>\n",
       "    <tr>\n",
       "      <th>1521</th>\n",
       "      <td>hello to everyone! please check out my video: ...</td>\n",
       "      <td>1</td>\n",
       "    </tr>\n",
       "    <tr>\n",
       "      <th>1522</th>\n",
       "      <td>/watch?v=aimbwbfqbzg watch and subscrible</td>\n",
       "      <td>1</td>\n",
       "    </tr>\n",
       "    <tr>\n",
       "      <th>1573</th>\n",
       "      <td>subscribe to my channel  /watch?v=nxk32i0hkds</td>\n",
       "      <td>1</td>\n",
       "    </tr>\n",
       "  </tbody>\n",
       "</table>\n",
       "<p>171 rows × 2 columns</p>\n",
       "</div>"
      ],
      "text/plain": [
       "                                                CONTENT  CLASS\n",
       "2                just for test i have to say murdev.com      1\n",
       "4                watch?v=vtarggvgtwq   check this out .      1\n",
       "12                  https://twitter.com/gbphotographygb      1\n",
       "14    please like :d https://premium.easypromosapp.c...      1\n",
       "17    http://www.ebay.com/itm/171183229277?sspagenam...      1\n",
       "...                                                 ...    ...\n",
       "1448  everyone come and check out the new gta 5 game...      1\n",
       "1476        check out these lyrics /watch?v=yuttx04oyqq      1\n",
       "1521  hello to everyone! please check out my video: ...      1\n",
       "1522          /watch?v=aimbwbfqbzg watch and subscrible      1\n",
       "1573      subscribe to my channel  /watch?v=nxk32i0hkds      1\n",
       "\n",
       "[171 rows x 2 columns]"
      ]
     },
     "execution_count": 224,
     "metadata": {},
     "output_type": "execute_result"
    }
   ],
   "source": [
    "df[df[\"CONTENT\"].str.contains(\"\\.com|watch\\?\")]"
   ]
  },
  {
   "cell_type": "markdown",
   "metadata": {
    "id": "aarCfF_8JfIj",
    "papermill": {
     "duration": 0.042505,
     "end_time": "2020-10-18T13:05:26.957095",
     "exception": false,
     "start_time": "2020-10-18T13:05:26.914590",
     "status": "completed"
    },
    "tags": []
   },
   "source": [
    "There are still few rows with links. Let's replace them too with \"htmllink\" and then remove all non-alpha numerical characters."
   ]
  },
  {
   "cell_type": "code",
   "execution_count": 225,
   "metadata": {
    "execution": {
     "iopub.execute_input": "2020-10-18T13:05:27.049596Z",
     "iopub.status.busy": "2020-10-18T13:05:27.048618Z",
     "iopub.status.idle": "2020-10-18T13:05:27.053349Z",
     "shell.execute_reply": "2020-10-18T13:05:27.052544Z"
    },
    "id": "JldXxOkXBdhM",
    "outputId": "483c1d07-3194-4f00-a3fc-beb301aa78ed",
    "papermill": {
     "duration": 0.053315,
     "end_time": "2020-10-18T13:05:27.053494",
     "exception": false,
     "start_time": "2020-10-18T13:05:27.000179",
     "status": "completed"
    },
    "tags": []
   },
   "outputs": [
    {
     "data": {
      "text/plain": [
       "'subscribe to my channel  /watch?v=nxk32i0hkds'"
      ]
     },
     "execution_count": 225,
     "metadata": {},
     "output_type": "execute_result"
    }
   ],
   "source": [
    "df[\"CONTENT\"][1573]"
   ]
  },
  {
   "cell_type": "code",
   "execution_count": 226,
   "metadata": {
    "execution": {
     "iopub.execute_input": "2020-10-18T13:05:27.183968Z",
     "iopub.status.busy": "2020-10-18T13:05:27.171515Z",
     "iopub.status.idle": "2020-10-18T13:05:27.186897Z",
     "shell.execute_reply": "2020-10-18T13:05:27.187473Z"
    },
    "id": "SBVvASQeBqcu",
    "papermill": {
     "duration": 0.09029,
     "end_time": "2020-10-18T13:05:27.187640",
     "exception": false,
     "start_time": "2020-10-18T13:05:27.097350",
     "status": "completed"
    },
    "tags": []
   },
   "outputs": [],
   "source": [
    "df[\"CONTENT\"]=df[\"CONTENT\"].str.replace(r\"\\S*\\.com\\S*|\\S*watch\\?\\S*\",\"htmllink\",regex=True)"
   ]
  },
  {
   "cell_type": "code",
   "execution_count": 227,
   "metadata": {
    "execution": {
     "iopub.execute_input": "2020-10-18T13:05:27.302432Z",
     "iopub.status.busy": "2020-10-18T13:05:27.301589Z",
     "iopub.status.idle": "2020-10-18T13:05:27.305096Z",
     "shell.execute_reply": "2020-10-18T13:05:27.304426Z"
    },
    "id": "p4lSppexBti7",
    "papermill": {
     "duration": 0.069801,
     "end_time": "2020-10-18T13:05:27.305226",
     "exception": false,
     "start_time": "2020-10-18T13:05:27.235425",
     "status": "completed"
    },
    "tags": []
   },
   "outputs": [],
   "source": [
    "df[\"CONTENT\"]=df[\"CONTENT\"].str.replace(\"\\W\",\" \",regex=True)"
   ]
  },
  {
   "cell_type": "code",
   "execution_count": 228,
   "metadata": {
    "execution": {
     "iopub.execute_input": "2020-10-18T13:05:27.399893Z",
     "iopub.status.busy": "2020-10-18T13:05:27.398955Z",
     "iopub.status.idle": "2020-10-18T13:05:27.403563Z",
     "shell.execute_reply": "2020-10-18T13:05:27.402965Z"
    },
    "id": "gZGMv2E5Bvmi",
    "outputId": "51c99ae4-a172-4871-aa49-4ce411037873",
    "papermill": {
     "duration": 0.054095,
     "end_time": "2020-10-18T13:05:27.403694",
     "exception": false,
     "start_time": "2020-10-18T13:05:27.349599",
     "status": "completed"
    },
    "tags": []
   },
   "outputs": [
    {
     "data": {
      "text/plain": [
       "'subscribe to my channel  htmllink'"
      ]
     },
     "execution_count": 228,
     "metadata": {},
     "output_type": "execute_result"
    }
   ],
   "source": [
    "df[\"CONTENT\"][1573]"
   ]
  },
  {
   "cell_type": "code",
   "execution_count": 229,
   "metadata": {
    "execution": {
     "iopub.execute_input": "2020-10-18T13:05:27.499596Z",
     "iopub.status.busy": "2020-10-18T13:05:27.498511Z",
     "iopub.status.idle": "2020-10-18T13:05:27.503295Z",
     "shell.execute_reply": "2020-10-18T13:05:27.502693Z"
    },
    "id": "f-S9t6IDByKz",
    "outputId": "fd253435-7ea8-4436-8a99-f1a0f0dc1caf",
    "papermill": {
     "duration": 0.054684,
     "end_time": "2020-10-18T13:05:27.503422",
     "exception": false,
     "start_time": "2020-10-18T13:05:27.448738",
     "status": "completed"
    },
    "tags": []
   },
   "outputs": [
    {
     "data": {
      "text/plain": [
       "'please like  d htmllink'"
      ]
     },
     "execution_count": 229,
     "metadata": {},
     "output_type": "execute_result"
    }
   ],
   "source": [
    "df[\"CONTENT\"][14]"
   ]
  },
  {
   "cell_type": "markdown",
   "metadata": {
    "id": "o3okrPGdKEtC",
    "papermill": {
     "duration": 0.045882,
     "end_time": "2020-10-18T13:05:27.594755",
     "exception": false,
     "start_time": "2020-10-18T13:05:27.548873",
     "status": "completed"
    },
    "tags": []
   },
   "source": [
    "## Model Creation"
   ]
  },
  {
   "cell_type": "code",
   "execution_count": 230,
   "metadata": {
    "execution": {
     "iopub.execute_input": "2020-10-18T13:05:27.693846Z",
     "iopub.status.busy": "2020-10-18T13:05:27.693066Z",
     "iopub.status.idle": "2020-10-18T13:05:27.718292Z",
     "shell.execute_reply": "2020-10-18T13:05:27.717529Z"
    },
    "id": "ALPh81GNCR2t",
    "outputId": "0f20f4da-90e2-45dd-c9fa-3ae40c2553a9",
    "papermill": {
     "duration": 0.077035,
     "end_time": "2020-10-18T13:05:27.718417",
     "exception": false,
     "start_time": "2020-10-18T13:05:27.641382",
     "status": "completed"
    },
    "tags": []
   },
   "outputs": [
    {
     "data": {
      "text/plain": [
       "1    0.52396\n",
       "0    0.47604\n",
       "Name: CLASS, dtype: float64"
      ]
     },
     "execution_count": 230,
     "metadata": {},
     "output_type": "execute_result"
    }
   ],
   "source": [
    "# calculating relative frequencies of the unique values\n",
    "\n",
    "df[\"CLASS\"].value_counts(normalize=True)"
   ]
  },
  {
   "cell_type": "markdown",
   "metadata": {
    "id": "UoikAkmTXe1s",
    "papermill": {
     "duration": 0.045526,
     "end_time": "2020-10-18T13:05:28.180296",
     "exception": false,
     "start_time": "2020-10-18T13:05:28.134770",
     "status": "completed"
    },
    "tags": []
   },
   "source": [
    "Now let's get the unique words and perform the required calculations"
   ]
  },
  {
   "cell_type": "code",
   "execution_count": 231,
   "metadata": {
    "execution": {
     "iopub.execute_input": "2020-10-18T13:05:28.287129Z",
     "iopub.status.busy": "2020-10-18T13:05:28.286186Z",
     "iopub.status.idle": "2020-10-18T13:05:28.289154Z",
     "shell.execute_reply": "2020-10-18T13:05:28.288415Z"
    },
    "id": "TXl7w_zwCUrQ",
    "papermill": {
     "duration": 0.061963,
     "end_time": "2020-10-18T13:05:28.289276",
     "exception": false,
     "start_time": "2020-10-18T13:05:28.227313",
     "status": "completed"
    },
    "tags": []
   },
   "outputs": [],
   "source": [
    "# creating a list to store all words\n",
    "\n",
    "vocab_list=[]\n",
    "for comment in df[\"CONTENT\"]:\n",
    "    for word in comment.split():\n",
    "        vocab_list.append(word)"
   ]
  },
  {
   "cell_type": "code",
   "execution_count": 232,
   "metadata": {
    "execution": {
     "iopub.execute_input": "2020-10-18T13:05:28.389757Z",
     "iopub.status.busy": "2020-10-18T13:05:28.388701Z",
     "iopub.status.idle": "2020-10-18T13:05:28.393037Z",
     "shell.execute_reply": "2020-10-18T13:05:28.392281Z"
    },
    "id": "NA__QTHrCWoX",
    "outputId": "4ebfbd89-abbb-41ed-bc01-cd37e21d2cff",
    "papermill": {
     "duration": 0.057859,
     "end_time": "2020-10-18T13:05:28.393163",
     "exception": false,
     "start_time": "2020-10-18T13:05:28.335304",
     "status": "completed"
    },
    "tags": []
   },
   "outputs": [
    {
     "data": {
      "text/plain": [
       "3363"
      ]
     },
     "execution_count": 232,
     "metadata": {},
     "output_type": "execute_result"
    }
   ],
   "source": [
    "vocabulary=list(set(vocab_list))\n",
    "len(vocabulary)"
   ]
  },
  {
   "cell_type": "code",
   "execution_count": 233,
   "metadata": {
    "execution": {
     "iopub.execute_input": "2020-10-18T13:05:28.507885Z",
     "iopub.status.busy": "2020-10-18T13:05:28.493907Z",
     "iopub.status.idle": "2020-10-18T13:05:31.667407Z",
     "shell.execute_reply": "2020-10-18T13:05:31.666665Z"
    },
    "id": "eSkgFpjECX-4",
    "papermill": {
     "duration": 3.227571,
     "end_time": "2020-10-18T13:05:31.667561",
     "exception": false,
     "start_time": "2020-10-18T13:05:28.439990",
     "status": "completed"
    },
    "tags": []
   },
   "outputs": [],
   "source": [
    "# Create a column for each of the unique word in our vocabulary inorder to get the count of words \n",
    "for word in vocabulary:\n",
    "    df[word]=0"
   ]
  },
  {
   "cell_type": "code",
   "execution_count": 234,
   "metadata": {
    "execution": {
     "iopub.execute_input": "2020-10-18T13:05:31.770162Z",
     "iopub.status.busy": "2020-10-18T13:05:31.769383Z",
     "iopub.status.idle": "2020-10-18T13:05:31.793010Z",
     "shell.execute_reply": "2020-10-18T13:05:31.792251Z"
    },
    "id": "3kn38KstCZ4A",
    "outputId": "a8c4fc31-7c31-4cb0-fc5e-c0e6125005e4",
    "papermill": {
     "duration": 0.077739,
     "end_time": "2020-10-18T13:05:31.793162",
     "exception": false,
     "start_time": "2020-10-18T13:05:31.715423",
     "status": "completed"
    },
    "tags": []
   },
   "outputs": [
    {
     "data": {
      "text/html": [
       "<div>\n",
       "<style scoped>\n",
       "    .dataframe tbody tr th:only-of-type {\n",
       "        vertical-align: middle;\n",
       "    }\n",
       "\n",
       "    .dataframe tbody tr th {\n",
       "        vertical-align: top;\n",
       "    }\n",
       "\n",
       "    .dataframe thead th {\n",
       "        text-align: right;\n",
       "    }\n",
       "</style>\n",
       "<table border=\"1\" class=\"dataframe\">\n",
       "  <thead>\n",
       "    <tr style=\"text-align: right;\">\n",
       "      <th></th>\n",
       "      <th>CONTENT</th>\n",
       "      <th>CLASS</th>\n",
       "      <th>animal</th>\n",
       "      <th>hating</th>\n",
       "      <th>friends</th>\n",
       "      <th>supporters</th>\n",
       "      <th>annoys</th>\n",
       "      <th>luck</th>\n",
       "      <th>5287</th>\n",
       "      <th>htmllinkand</th>\n",
       "      <th>...</th>\n",
       "      <th>user</th>\n",
       "      <th>mri</th>\n",
       "      <th>close</th>\n",
       "      <th>room</th>\n",
       "      <th>gave</th>\n",
       "      <th>erection</th>\n",
       "      <th>danke</th>\n",
       "      <th>toilet</th>\n",
       "      <th>vip</th>\n",
       "      <th>completely</th>\n",
       "    </tr>\n",
       "  </thead>\n",
       "  <tbody>\n",
       "    <tr>\n",
       "      <th>0</th>\n",
       "      <td>huh  anyway check out this you tube  channel  ...</td>\n",
       "      <td>1</td>\n",
       "      <td>0</td>\n",
       "      <td>0</td>\n",
       "      <td>0</td>\n",
       "      <td>0</td>\n",
       "      <td>0</td>\n",
       "      <td>0</td>\n",
       "      <td>0</td>\n",
       "      <td>0</td>\n",
       "      <td>...</td>\n",
       "      <td>0</td>\n",
       "      <td>0</td>\n",
       "      <td>0</td>\n",
       "      <td>0</td>\n",
       "      <td>0</td>\n",
       "      <td>0</td>\n",
       "      <td>0</td>\n",
       "      <td>0</td>\n",
       "      <td>0</td>\n",
       "      <td>0</td>\n",
       "    </tr>\n",
       "    <tr>\n",
       "      <th>1</th>\n",
       "      <td>hey guys check out my new channel and our firs...</td>\n",
       "      <td>1</td>\n",
       "      <td>0</td>\n",
       "      <td>0</td>\n",
       "      <td>0</td>\n",
       "      <td>0</td>\n",
       "      <td>0</td>\n",
       "      <td>0</td>\n",
       "      <td>0</td>\n",
       "      <td>0</td>\n",
       "      <td>...</td>\n",
       "      <td>0</td>\n",
       "      <td>0</td>\n",
       "      <td>0</td>\n",
       "      <td>0</td>\n",
       "      <td>0</td>\n",
       "      <td>0</td>\n",
       "      <td>0</td>\n",
       "      <td>0</td>\n",
       "      <td>0</td>\n",
       "      <td>0</td>\n",
       "    </tr>\n",
       "    <tr>\n",
       "      <th>2</th>\n",
       "      <td>just for test i have to say htmllink</td>\n",
       "      <td>1</td>\n",
       "      <td>0</td>\n",
       "      <td>0</td>\n",
       "      <td>0</td>\n",
       "      <td>0</td>\n",
       "      <td>0</td>\n",
       "      <td>0</td>\n",
       "      <td>0</td>\n",
       "      <td>0</td>\n",
       "      <td>...</td>\n",
       "      <td>0</td>\n",
       "      <td>0</td>\n",
       "      <td>0</td>\n",
       "      <td>0</td>\n",
       "      <td>0</td>\n",
       "      <td>0</td>\n",
       "      <td>0</td>\n",
       "      <td>0</td>\n",
       "      <td>0</td>\n",
       "      <td>0</td>\n",
       "    </tr>\n",
       "    <tr>\n",
       "      <th>3</th>\n",
       "      <td>me shaking my sexy ass on my channel enjoy  _</td>\n",
       "      <td>1</td>\n",
       "      <td>0</td>\n",
       "      <td>0</td>\n",
       "      <td>0</td>\n",
       "      <td>0</td>\n",
       "      <td>0</td>\n",
       "      <td>0</td>\n",
       "      <td>0</td>\n",
       "      <td>0</td>\n",
       "      <td>...</td>\n",
       "      <td>0</td>\n",
       "      <td>0</td>\n",
       "      <td>0</td>\n",
       "      <td>0</td>\n",
       "      <td>0</td>\n",
       "      <td>0</td>\n",
       "      <td>0</td>\n",
       "      <td>0</td>\n",
       "      <td>0</td>\n",
       "      <td>0</td>\n",
       "    </tr>\n",
       "    <tr>\n",
       "      <th>4</th>\n",
       "      <td>htmllink   check this out</td>\n",
       "      <td>1</td>\n",
       "      <td>0</td>\n",
       "      <td>0</td>\n",
       "      <td>0</td>\n",
       "      <td>0</td>\n",
       "      <td>0</td>\n",
       "      <td>0</td>\n",
       "      <td>0</td>\n",
       "      <td>0</td>\n",
       "      <td>...</td>\n",
       "      <td>0</td>\n",
       "      <td>0</td>\n",
       "      <td>0</td>\n",
       "      <td>0</td>\n",
       "      <td>0</td>\n",
       "      <td>0</td>\n",
       "      <td>0</td>\n",
       "      <td>0</td>\n",
       "      <td>0</td>\n",
       "      <td>0</td>\n",
       "    </tr>\n",
       "  </tbody>\n",
       "</table>\n",
       "<p>5 rows × 3365 columns</p>\n",
       "</div>"
      ],
      "text/plain": [
       "                                             CONTENT  CLASS  animal  hating  \\\n",
       "0  huh  anyway check out this you tube  channel  ...      1       0       0   \n",
       "1  hey guys check out my new channel and our firs...      1       0       0   \n",
       "2               just for test i have to say htmllink      1       0       0   \n",
       "3    me shaking my sexy ass on my channel enjoy  _        1       0       0   \n",
       "4                        htmllink   check this out        1       0       0   \n",
       "\n",
       "   friends  supporters  annoys  luck  5287  htmllinkand  ...  user  mri  \\\n",
       "0        0           0       0     0     0            0  ...     0    0   \n",
       "1        0           0       0     0     0            0  ...     0    0   \n",
       "2        0           0       0     0     0            0  ...     0    0   \n",
       "3        0           0       0     0     0            0  ...     0    0   \n",
       "4        0           0       0     0     0            0  ...     0    0   \n",
       "\n",
       "   close  room  gave  erection  danke  toilet  vip  completely  \n",
       "0      0     0     0         0      0       0    0           0  \n",
       "1      0     0     0         0      0       0    0           0  \n",
       "2      0     0     0         0      0       0    0           0  \n",
       "3      0     0     0         0      0       0    0           0  \n",
       "4      0     0     0         0      0       0    0           0  \n",
       "\n",
       "[5 rows x 3365 columns]"
      ]
     },
     "execution_count": 234,
     "metadata": {},
     "output_type": "execute_result"
    }
   ],
   "source": [
    "df.head()"
   ]
  },
  {
   "cell_type": "code",
   "execution_count": 240,
   "metadata": {
    "_kg_hide-output": true,
    "execution": {
     "iopub.execute_input": "2020-10-18T13:05:31.898965Z",
     "iopub.status.busy": "2020-10-18T13:05:31.897504Z",
     "iopub.status.idle": "2020-10-18T13:05:34.233311Z",
     "shell.execute_reply": "2020-10-18T13:05:34.232663Z"
    },
    "id": "8y22NJTuCbZD",
    "outputId": "2e9c9925-a197-4458-fdb4-6aa3a867785c",
    "papermill": {
     "duration": 2.392432,
     "end_time": "2020-10-18T13:05:34.233451",
     "exception": false,
     "start_time": "2020-10-18T13:05:31.841019",
     "status": "completed"
    },
    "tags": []
   },
   "outputs": [],
   "source": [
    "# looping through data frame and counting words \n",
    "\n",
    "for index,value in enumerate(df[\"CONTENT\"]):\n",
    "  for l in value.split():\n",
    "    df[l][index]+=1"
   ]
  },
  {
   "cell_type": "code",
   "execution_count": 241,
   "metadata": {
    "execution": {
     "iopub.execute_input": "2020-10-18T13:05:34.344803Z",
     "iopub.status.busy": "2020-10-18T13:05:34.344060Z",
     "iopub.status.idle": "2020-10-18T13:05:34.358817Z",
     "shell.execute_reply": "2020-10-18T13:05:34.359450Z"
    },
    "id": "vrWyZwp2CfWv",
    "outputId": "55ea85bb-5103-459b-b159-a7902e6569b4",
    "papermill": {
     "duration": 0.07653,
     "end_time": "2020-10-18T13:05:34.359611",
     "exception": false,
     "start_time": "2020-10-18T13:05:34.283081",
     "status": "completed"
    },
    "tags": []
   },
   "outputs": [
    {
     "data": {
      "text/html": [
       "<div>\n",
       "<style scoped>\n",
       "    .dataframe tbody tr th:only-of-type {\n",
       "        vertical-align: middle;\n",
       "    }\n",
       "\n",
       "    .dataframe tbody tr th {\n",
       "        vertical-align: top;\n",
       "    }\n",
       "\n",
       "    .dataframe thead th {\n",
       "        text-align: right;\n",
       "    }\n",
       "</style>\n",
       "<table border=\"1\" class=\"dataframe\">\n",
       "  <thead>\n",
       "    <tr style=\"text-align: right;\">\n",
       "      <th></th>\n",
       "      <th>CONTENT</th>\n",
       "      <th>CLASS</th>\n",
       "      <th>animal</th>\n",
       "      <th>hating</th>\n",
       "      <th>friends</th>\n",
       "      <th>supporters</th>\n",
       "      <th>annoys</th>\n",
       "      <th>luck</th>\n",
       "      <th>5287</th>\n",
       "      <th>htmllinkand</th>\n",
       "      <th>...</th>\n",
       "      <th>user</th>\n",
       "      <th>mri</th>\n",
       "      <th>close</th>\n",
       "      <th>room</th>\n",
       "      <th>gave</th>\n",
       "      <th>erection</th>\n",
       "      <th>danke</th>\n",
       "      <th>toilet</th>\n",
       "      <th>vip</th>\n",
       "      <th>completely</th>\n",
       "    </tr>\n",
       "  </thead>\n",
       "  <tbody>\n",
       "    <tr>\n",
       "      <th>0</th>\n",
       "      <td>huh  anyway check out this you tube  channel  ...</td>\n",
       "      <td>1</td>\n",
       "      <td>0</td>\n",
       "      <td>0</td>\n",
       "      <td>0</td>\n",
       "      <td>0</td>\n",
       "      <td>0</td>\n",
       "      <td>0</td>\n",
       "      <td>0</td>\n",
       "      <td>0</td>\n",
       "      <td>...</td>\n",
       "      <td>0</td>\n",
       "      <td>0</td>\n",
       "      <td>0</td>\n",
       "      <td>0</td>\n",
       "      <td>0</td>\n",
       "      <td>0</td>\n",
       "      <td>0</td>\n",
       "      <td>0</td>\n",
       "      <td>0</td>\n",
       "      <td>0</td>\n",
       "    </tr>\n",
       "    <tr>\n",
       "      <th>1</th>\n",
       "      <td>hey guys check out my new channel and our firs...</td>\n",
       "      <td>1</td>\n",
       "      <td>0</td>\n",
       "      <td>0</td>\n",
       "      <td>0</td>\n",
       "      <td>0</td>\n",
       "      <td>0</td>\n",
       "      <td>0</td>\n",
       "      <td>0</td>\n",
       "      <td>0</td>\n",
       "      <td>...</td>\n",
       "      <td>0</td>\n",
       "      <td>0</td>\n",
       "      <td>0</td>\n",
       "      <td>0</td>\n",
       "      <td>0</td>\n",
       "      <td>0</td>\n",
       "      <td>0</td>\n",
       "      <td>0</td>\n",
       "      <td>0</td>\n",
       "      <td>0</td>\n",
       "    </tr>\n",
       "    <tr>\n",
       "      <th>2</th>\n",
       "      <td>just for test i have to say htmllink</td>\n",
       "      <td>1</td>\n",
       "      <td>0</td>\n",
       "      <td>0</td>\n",
       "      <td>0</td>\n",
       "      <td>0</td>\n",
       "      <td>0</td>\n",
       "      <td>0</td>\n",
       "      <td>0</td>\n",
       "      <td>0</td>\n",
       "      <td>...</td>\n",
       "      <td>0</td>\n",
       "      <td>0</td>\n",
       "      <td>0</td>\n",
       "      <td>0</td>\n",
       "      <td>0</td>\n",
       "      <td>0</td>\n",
       "      <td>0</td>\n",
       "      <td>0</td>\n",
       "      <td>0</td>\n",
       "      <td>0</td>\n",
       "    </tr>\n",
       "    <tr>\n",
       "      <th>3</th>\n",
       "      <td>me shaking my sexy ass on my channel enjoy  _</td>\n",
       "      <td>1</td>\n",
       "      <td>0</td>\n",
       "      <td>0</td>\n",
       "      <td>0</td>\n",
       "      <td>0</td>\n",
       "      <td>0</td>\n",
       "      <td>0</td>\n",
       "      <td>0</td>\n",
       "      <td>0</td>\n",
       "      <td>...</td>\n",
       "      <td>0</td>\n",
       "      <td>0</td>\n",
       "      <td>0</td>\n",
       "      <td>0</td>\n",
       "      <td>0</td>\n",
       "      <td>0</td>\n",
       "      <td>0</td>\n",
       "      <td>0</td>\n",
       "      <td>0</td>\n",
       "      <td>0</td>\n",
       "    </tr>\n",
       "    <tr>\n",
       "      <th>4</th>\n",
       "      <td>htmllink   check this out</td>\n",
       "      <td>1</td>\n",
       "      <td>0</td>\n",
       "      <td>0</td>\n",
       "      <td>0</td>\n",
       "      <td>0</td>\n",
       "      <td>0</td>\n",
       "      <td>0</td>\n",
       "      <td>0</td>\n",
       "      <td>0</td>\n",
       "      <td>...</td>\n",
       "      <td>0</td>\n",
       "      <td>0</td>\n",
       "      <td>0</td>\n",
       "      <td>0</td>\n",
       "      <td>0</td>\n",
       "      <td>0</td>\n",
       "      <td>0</td>\n",
       "      <td>0</td>\n",
       "      <td>0</td>\n",
       "      <td>0</td>\n",
       "    </tr>\n",
       "  </tbody>\n",
       "</table>\n",
       "<p>5 rows × 3365 columns</p>\n",
       "</div>"
      ],
      "text/plain": [
       "                                             CONTENT  CLASS  animal  hating  \\\n",
       "0  huh  anyway check out this you tube  channel  ...      1       0       0   \n",
       "1  hey guys check out my new channel and our firs...      1       0       0   \n",
       "2               just for test i have to say htmllink      1       0       0   \n",
       "3    me shaking my sexy ass on my channel enjoy  _        1       0       0   \n",
       "4                        htmllink   check this out        1       0       0   \n",
       "\n",
       "   friends  supporters  annoys  luck  5287  htmllinkand  ...  user  mri  \\\n",
       "0        0           0       0     0     0            0  ...     0    0   \n",
       "1        0           0       0     0     0            0  ...     0    0   \n",
       "2        0           0       0     0     0            0  ...     0    0   \n",
       "3        0           0       0     0     0            0  ...     0    0   \n",
       "4        0           0       0     0     0            0  ...     0    0   \n",
       "\n",
       "   close  room  gave  erection  danke  toilet  vip  completely  \n",
       "0      0     0     0         0      0       0    0           0  \n",
       "1      0     0     0         0      0       0    0           0  \n",
       "2      0     0     0         0      0       0    0           0  \n",
       "3      0     0     0         0      0       0    0           0  \n",
       "4      0     0     0         0      0       0    0           0  \n",
       "\n",
       "[5 rows x 3365 columns]"
      ]
     },
     "execution_count": 241,
     "metadata": {},
     "output_type": "execute_result"
    }
   ],
   "source": [
    "df.head()"
   ]
  },
  {
   "cell_type": "code",
   "execution_count": 242,
   "metadata": {
    "execution": {
     "iopub.execute_input": "2020-10-18T13:05:34.482310Z",
     "iopub.status.busy": "2020-10-18T13:05:34.481451Z",
     "iopub.status.idle": "2020-10-18T13:05:34.594852Z",
     "shell.execute_reply": "2020-10-18T13:05:34.594215Z"
    },
    "id": "NHgrNrJOChtt",
    "outputId": "a63e5309-56ba-452b-bc81-2f9352de275b",
    "papermill": {
     "duration": 0.185853,
     "end_time": "2020-10-18T13:05:34.595002",
     "exception": false,
     "start_time": "2020-10-18T13:05:34.409149",
     "status": "completed"
    },
    "tags": []
   },
   "outputs": [
    {
     "data": {
      "text/plain": [
       "CLASS\n",
       "0     7417\n",
       "1    15560\n",
       "dtype: int64"
      ]
     },
     "execution_count": 242,
     "metadata": {},
     "output_type": "execute_result"
    }
   ],
   "source": [
    "#Total number of words in each class\n",
    "\n",
    "df.groupby(\"CLASS\").sum().sum(axis=1)"
   ]
  },
  {
   "cell_type": "code",
   "execution_count": 243,
   "metadata": {
    "execution": {
     "iopub.execute_input": "2020-10-18T13:05:34.728404Z",
     "iopub.status.busy": "2020-10-18T13:05:34.722745Z",
     "iopub.status.idle": "2020-10-18T13:05:34.777813Z",
     "shell.execute_reply": "2020-10-18T13:05:34.777143Z"
    },
    "id": "BFtPjPHJCkj4",
    "papermill": {
     "duration": 0.132827,
     "end_time": "2020-10-18T13:05:34.777967",
     "exception": false,
     "start_time": "2020-10-18T13:05:34.645140",
     "status": "completed"
    },
    "tags": []
   },
   "outputs": [],
   "source": [
    "# Assign variables to all values required in calculation\n",
    "\n",
    "p_ham=0.47604\n",
    "p_spam=0.52396\n",
    "n_spam=df[df[\"CLASS\"]==1].drop(columns=[\"CONTENT\",\"CLASS\"]).sum().sum()\n",
    "n_ham=df[df[\"CLASS\"]==0].drop(columns=[\"CONTENT\",\"CLASS\"]).sum().sum()\n",
    "n_vocabulary=len(vocabulary)"
   ]
  },
  {
   "cell_type": "code",
   "execution_count": 244,
   "metadata": {
    "execution": {
     "iopub.execute_input": "2020-10-18T13:05:34.891378Z",
     "iopub.status.busy": "2020-10-18T13:05:34.883630Z",
     "iopub.status.idle": "2020-10-18T13:05:34.901604Z",
     "shell.execute_reply": "2020-10-18T13:05:34.900810Z"
    },
    "id": "zQWlJSRJCnLD",
    "papermill": {
     "duration": 0.073682,
     "end_time": "2020-10-18T13:05:34.901737",
     "exception": false,
     "start_time": "2020-10-18T13:05:34.828055",
     "status": "completed"
    },
    "tags": []
   },
   "outputs": [],
   "source": [
    "# Slicing dataframe for each class\n",
    "\n",
    "df_sspam=df[df[\"CLASS\"]==1]\n",
    "df_hham=df[df[\"CLASS\"]==0]"
   ]
  },
  {
   "cell_type": "code",
   "execution_count": 245,
   "metadata": {
    "execution": {
     "iopub.execute_input": "2020-10-18T13:05:35.113098Z",
     "iopub.status.busy": "2020-10-18T13:05:35.112015Z",
     "iopub.status.idle": "2020-10-18T13:05:36.005761Z",
     "shell.execute_reply": "2020-10-18T13:05:36.005029Z"
    },
    "id": "rJ3hmwp4EBEI",
    "papermill": {
     "duration": 0.952597,
     "end_time": "2020-10-18T13:05:36.005886",
     "exception": false,
     "start_time": "2020-10-18T13:05:35.053289",
     "status": "completed"
    },
    "tags": []
   },
   "outputs": [],
   "source": [
    "#creating dictionaries to store probabilities of each word in dataframe given its a spam and not spam\n",
    "\n",
    "parameters_spam = {unique_word:0 for unique_word in vocabulary}\n",
    "parameters_ham = {unique_word:0 for unique_word in vocabulary}\n",
    "for word in vocabulary:\n",
    "    n_word_given_spam = df_sspam[word].sum()   # spam_messages already defined in a cell above\n",
    "    p_word_given_spam = (n_word_given_spam + 1) / (n_spam + 1*n_vocabulary)\n",
    "    parameters_spam[word] = p_word_given_spam\n",
    "    n_word_given_ham = df_hham[word].sum()   # ham_messages already defined in a cell above\n",
    "    p_word_given_ham = (n_word_given_ham + 1) / (n_ham + 1*n_vocabulary)\n",
    "    parameters_ham[word] = p_word_given_ham"
   ]
  },
  {
   "cell_type": "markdown",
   "metadata": {
    "id": "zZhx4o26Zg-V",
    "papermill": {
     "duration": 0.049915,
     "end_time": "2020-10-18T13:05:36.106405",
     "exception": false,
     "start_time": "2020-10-18T13:05:36.056490",
     "status": "completed"
    },
    "tags": []
   },
   "source": [
    "## Model Testing"
   ]
  },
  {
   "cell_type": "code",
   "execution_count": 246,
   "metadata": {
    "execution": {
     "iopub.execute_input": "2020-10-18T13:05:36.319687Z",
     "iopub.status.busy": "2020-10-18T13:05:36.318676Z",
     "iopub.status.idle": "2020-10-18T13:05:36.321210Z",
     "shell.execute_reply": "2020-10-18T13:05:36.321739Z"
    },
    "id": "UtB48H88EI0f",
    "papermill": {
     "duration": 0.064913,
     "end_time": "2020-10-18T13:05:36.321918",
     "exception": false,
     "start_time": "2020-10-18T13:05:36.257005",
     "status": "completed"
    },
    "tags": []
   },
   "outputs": [],
   "source": [
    "#defining a function to clean and classify all data\n",
    "\n",
    "def classifier(string):\n",
    "    message=html.unescape(string)\n",
    "    message=string.replace(\"\\ufeff\",\"\")\n",
    "    message=string.replace(\"(<a.+>)\",\"htmllink\")\n",
    "    message=string.replace(\"\\'|<.+>\",\"\")\n",
    "    message=string.replace(\"\\S*\\.com\\S*|\\S*watch\\?\\S*\",\"htmllink\")\n",
    "    message=string.replace(\"\\W\",\" \").lower()\n",
    "    p_string_s=1\n",
    "    p_string_h=1\n",
    "    for word in message.split():\n",
    "        if word in parameters_spam:\n",
    "            p_string_s*=parameters_spam[word]\n",
    "            p_string_h*=parameters_ham[word]\n",
    "    if (p_string_s*p_spam)>(p_string_h*p_ham):\n",
    "        return(1)\n",
    "    elif (p_string_s*p_spam)<(p_string_h*p_ham):\n",
    "        return(0)\n",
    "    else:\n",
    "        return(-1)"
   ]
  },
  {
   "cell_type": "code",
   "execution_count": 247,
   "metadata": {
    "execution": {
     "iopub.execute_input": "2020-10-18T13:05:36.430604Z",
     "iopub.status.busy": "2020-10-18T13:05:36.429717Z",
     "iopub.status.idle": "2020-10-18T13:05:36.438829Z",
     "shell.execute_reply": "2020-10-18T13:05:36.439413Z"
    },
    "id": "_6I9b4vAEN93",
    "papermill": {
     "duration": 0.067083,
     "end_time": "2020-10-18T13:05:36.439579",
     "exception": false,
     "start_time": "2020-10-18T13:05:36.372496",
     "status": "completed"
    },
    "tags": []
   },
   "outputs": [],
   "source": [
    "# Reading the dataframe for testing model\n",
    "df_test=pd.read_csv(\"Dataset5.csv\")"
   ]
  },
  {
   "cell_type": "code",
   "execution_count": 248,
   "metadata": {
    "execution": {
     "iopub.execute_input": "2020-10-18T13:05:36.555225Z",
     "iopub.status.busy": "2020-10-18T13:05:36.554240Z",
     "iopub.status.idle": "2020-10-18T13:05:36.559118Z",
     "shell.execute_reply": "2020-10-18T13:05:36.558477Z"
    },
    "id": "q6TpzbD0Ef23",
    "outputId": "23967d3c-8707-455f-bee3-1495d5cb8cf9",
    "papermill": {
     "duration": 0.068557,
     "end_time": "2020-10-18T13:05:36.559246",
     "exception": false,
     "start_time": "2020-10-18T13:05:36.490689",
     "status": "completed"
    },
    "tags": []
   },
   "outputs": [
    {
     "data": {
      "text/html": [
       "<div>\n",
       "<style scoped>\n",
       "    .dataframe tbody tr th:only-of-type {\n",
       "        vertical-align: middle;\n",
       "    }\n",
       "\n",
       "    .dataframe tbody tr th {\n",
       "        vertical-align: top;\n",
       "    }\n",
       "\n",
       "    .dataframe thead th {\n",
       "        text-align: right;\n",
       "    }\n",
       "</style>\n",
       "<table border=\"1\" class=\"dataframe\">\n",
       "  <thead>\n",
       "    <tr style=\"text-align: right;\">\n",
       "      <th></th>\n",
       "      <th>COMMENT_ID</th>\n",
       "      <th>AUTHOR</th>\n",
       "      <th>DATE</th>\n",
       "      <th>CONTENT</th>\n",
       "      <th>CLASS</th>\n",
       "    </tr>\n",
       "  </thead>\n",
       "  <tbody>\n",
       "    <tr>\n",
       "      <th>0</th>\n",
       "      <td>z13lgffb5w3ddx1ul22qy1wxspy5cpkz504</td>\n",
       "      <td>dharma pal</td>\n",
       "      <td>2015-05-29T02:30:18.971000</td>\n",
       "      <td>Nice song﻿</td>\n",
       "      <td>0</td>\n",
       "    </tr>\n",
       "    <tr>\n",
       "      <th>1</th>\n",
       "      <td>z123dbgb0mqjfxbtz22ucjc5jvzcv3ykj</td>\n",
       "      <td>Tiza Arellano</td>\n",
       "      <td>2015-05-29T00:14:48.748000</td>\n",
       "      <td>I love song ﻿</td>\n",
       "      <td>0</td>\n",
       "    </tr>\n",
       "    <tr>\n",
       "      <th>2</th>\n",
       "      <td>z12quxxp2vutflkxv04cihggzt2azl34pms0k</td>\n",
       "      <td>Prìñçeśś Âliś Łøvê Dømíñø Mâđiś™ ﻿</td>\n",
       "      <td>2015-05-28T21:00:08.607000</td>\n",
       "      <td>I love song ﻿</td>\n",
       "      <td>0</td>\n",
       "    </tr>\n",
       "    <tr>\n",
       "      <th>3</th>\n",
       "      <td>z12icv3ysqvlwth2c23eddlykyqut5z1h</td>\n",
       "      <td>Eric Gonzalez</td>\n",
       "      <td>2015-05-28T20:47:12.193000</td>\n",
       "      <td>860,000,000 lets make it first female to reach...</td>\n",
       "      <td>0</td>\n",
       "    </tr>\n",
       "    <tr>\n",
       "      <th>4</th>\n",
       "      <td>z133stly3kete3tly22petvwdpmghrlli</td>\n",
       "      <td>Analena López</td>\n",
       "      <td>2015-05-28T17:08:29.827000</td>\n",
       "      <td>shakira is best for worldcup﻿</td>\n",
       "      <td>0</td>\n",
       "    </tr>\n",
       "  </tbody>\n",
       "</table>\n",
       "</div>"
      ],
      "text/plain": [
       "                              COMMENT_ID                              AUTHOR  \\\n",
       "0    z13lgffb5w3ddx1ul22qy1wxspy5cpkz504                          dharma pal   \n",
       "1      z123dbgb0mqjfxbtz22ucjc5jvzcv3ykj                       Tiza Arellano   \n",
       "2  z12quxxp2vutflkxv04cihggzt2azl34pms0k  Prìñçeśś Âliś Łøvê Dømíñø Mâđiś™ ﻿   \n",
       "3      z12icv3ysqvlwth2c23eddlykyqut5z1h                       Eric Gonzalez   \n",
       "4      z133stly3kete3tly22petvwdpmghrlli                       Analena López   \n",
       "\n",
       "                         DATE  \\\n",
       "0  2015-05-29T02:30:18.971000   \n",
       "1  2015-05-29T00:14:48.748000   \n",
       "2  2015-05-28T21:00:08.607000   \n",
       "3  2015-05-28T20:47:12.193000   \n",
       "4  2015-05-28T17:08:29.827000   \n",
       "\n",
       "                                             CONTENT  CLASS  \n",
       "0                                         Nice song﻿      0  \n",
       "1                                      I love song ﻿      0  \n",
       "2                                      I love song ﻿      0  \n",
       "3  860,000,000 lets make it first female to reach...      0  \n",
       "4                      shakira is best for worldcup﻿      0  "
      ]
     },
     "execution_count": 248,
     "metadata": {},
     "output_type": "execute_result"
    }
   ],
   "source": [
    "df_test.head()"
   ]
  },
  {
   "cell_type": "code",
   "execution_count": 249,
   "metadata": {
    "execution": {
     "iopub.execute_input": "2020-10-18T13:05:36.678835Z",
     "iopub.status.busy": "2020-10-18T13:05:36.677883Z",
     "iopub.status.idle": "2020-10-18T13:05:36.681349Z",
     "shell.execute_reply": "2020-10-18T13:05:36.680643Z"
    },
    "id": "ah3i0IcFEqVX",
    "papermill": {
     "duration": 0.070149,
     "end_time": "2020-10-18T13:05:36.681472",
     "exception": false,
     "start_time": "2020-10-18T13:05:36.611323",
     "status": "completed"
    },
    "tags": []
   },
   "outputs": [],
   "source": [
    "#classifying the test dataset\n",
    "\n",
    "df_test[\"Pred_Class\"]=df_test[\"CONTENT\"].apply(classifier)"
   ]
  },
  {
   "cell_type": "code",
   "execution_count": 250,
   "metadata": {
    "execution": {
     "iopub.execute_input": "2020-10-18T13:05:36.837198Z",
     "iopub.status.busy": "2020-10-18T13:05:36.804374Z",
     "iopub.status.idle": "2020-10-18T13:05:36.840777Z",
     "shell.execute_reply": "2020-10-18T13:05:36.841761Z"
    },
    "id": "TsfshOubE0UG",
    "outputId": "2a2cdc82-6291-442a-d45c-a97e90f9af8f",
    "papermill": {
     "duration": 0.108355,
     "end_time": "2020-10-18T13:05:36.842011",
     "exception": false,
     "start_time": "2020-10-18T13:05:36.733656",
     "status": "completed"
    },
    "tags": []
   },
   "outputs": [
    {
     "name": "stdout",
     "output_type": "stream",
     "text": [
      "accuracy= 84.32432432432432\n"
     ]
    }
   ],
   "source": [
    "#calculating accuracy of the model\n",
    "\n",
    "correct_predictions=0\n",
    "total_rows=0\n",
    "for row in df_test.iterrows():\n",
    "    row=row[1]\n",
    "    total_rows+=1\n",
    "    if row[\"CLASS\"]==row[\"Pred_Class\"]:\n",
    "        correct_predictions+=1\n",
    "accuracy=(correct_predictions/total_rows)*100\n",
    "print(\"accuracy=\",accuracy)\n"
   ]
  },
  {
   "cell_type": "code",
   "execution_count": 204,
   "metadata": {},
   "outputs": [
    {
     "data": {
      "text/plain": [
       "1"
      ]
     },
     "execution_count": 204,
     "metadata": {},
     "output_type": "execute_result"
    }
   ],
   "source": [
    "classifier(\"I like his channel very much\")"
   ]
  },
  {
   "cell_type": "code",
   "execution_count": 205,
   "metadata": {},
   "outputs": [
    {
     "data": {
      "text/plain": [
       "0"
      ]
     },
     "execution_count": 205,
     "metadata": {},
     "output_type": "execute_result"
    }
   ],
   "source": [
    "classifier(\"I like him very much\")"
   ]
  },
  {
   "cell_type": "code",
   "execution_count": 206,
   "metadata": {},
   "outputs": [
    {
     "data": {
      "text/plain": [
       "1"
      ]
     },
     "execution_count": 206,
     "metadata": {},
     "output_type": "execute_result"
    }
   ],
   "source": [
    "classifier(\"My content is good guys. check out\")"
   ]
  },
  {
   "cell_type": "code",
   "execution_count": 207,
   "metadata": {},
   "outputs": [
    {
     "data": {
      "text/plain": [
       "0"
      ]
     },
     "execution_count": 207,
     "metadata": {},
     "output_type": "execute_result"
    }
   ],
   "source": [
    "classifier(\"My content is good\")"
   ]
  },
  {
   "cell_type": "code",
   "execution_count": 208,
   "metadata": {},
   "outputs": [
    {
     "data": {
      "text/plain": [
       "0"
      ]
     },
     "execution_count": 208,
     "metadata": {},
     "output_type": "execute_result"
    }
   ],
   "source": [
    "classifier(\"My laptop is good\")"
   ]
  },
  {
   "cell_type": "code",
   "execution_count": 209,
   "metadata": {},
   "outputs": [
    {
     "data": {
      "text/plain": [
       "1"
      ]
     },
     "execution_count": 209,
     "metadata": {},
     "output_type": "execute_result"
    }
   ],
   "source": [
    "classifier(\"My content is better than his\")"
   ]
  },
  {
   "cell_type": "code",
   "execution_count": 210,
   "metadata": {},
   "outputs": [
    {
     "data": {
      "text/plain": [
       "0"
      ]
     },
     "execution_count": 210,
     "metadata": {},
     "output_type": "execute_result"
    }
   ],
   "source": [
    "classifier(\"Roses are red\")"
   ]
  },
  {
   "cell_type": "code",
   "execution_count": 211,
   "metadata": {},
   "outputs": [
    {
     "data": {
      "text/plain": [
       "1"
      ]
     },
     "execution_count": 211,
     "metadata": {},
     "output_type": "execute_result"
    }
   ],
   "source": [
    "classifier(\"Excellent video!\")"
   ]
  },
  {
   "cell_type": "code",
   "execution_count": null,
   "metadata": {},
   "outputs": [],
   "source": []
  }
 ],
 "metadata": {
  "kernelspec": {
   "display_name": "Python 3",
   "language": "python",
   "name": "python3"
  },
  "language_info": {
   "codemirror_mode": {
    "name": "ipython",
    "version": 3
   },
   "file_extension": ".py",
   "mimetype": "text/x-python",
   "name": "python",
   "nbconvert_exporter": "python",
   "pygments_lexer": "ipython3",
   "version": "3.8.8"
  },
  "papermill": {
   "duration": 17.877815,
   "end_time": "2020-10-18T13:05:37.574596",
   "environment_variables": {},
   "exception": null,
   "input_path": "__notebook__.ipynb",
   "output_path": "__notebook__.ipynb",
   "parameters": {},
   "start_time": "2020-10-18T13:05:19.696781",
   "version": "2.1.0"
  }
 },
 "nbformat": 4,
 "nbformat_minor": 4
}
